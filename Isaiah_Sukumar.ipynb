{
  "nbformat": 4,
  "nbformat_minor": 0,
  "metadata": {
    "colab": {
      "name": "Isaiah Sukumar.ipynb",
      "provenance": []
    },
    "kernelspec": {
      "name": "python3",
      "display_name": "Python 3"
    },
    "language_info": {
      "name": "python"
    }
  },
  "cells": [
    {
      "cell_type": "code",
      "metadata": {
        "id": "cM5lZrGro0gL",
        "colab": {
          "base_uri": "https://localhost:8080/"
        },
        "outputId": "9added95-740b-4c63-9b82-c4cfdd9e43b5"
      },
      "source": [
        "import numpy as np\n",
        "import pandas as pd\n",
        "import sklearn\n",
        "\n",
        "from sklearn.datasets import load_boston\n",
        "df= load_boston()\n",
        "\n",
        "df.keys()\n",
        "\n",
        "print(df.filename)\n",
        "\n",
        "boston=pd.DataFrame(df.data, columns= df.feature_names)\n",
        "boston.head(10)\n",
        "\n",
        "boston['PRICE'] = df.target\n",
        "boston.head() \n",
        "\n",
        "boston.isnull()\n",
        "\n",
        "boston.isnull().sum()\n",
        "\n",
        "from sklearn.model_selection import train_test_split\n",
        "X= boston.drop('PRICE', axis=1)\n",
        "Y= boston['PRICE']\n",
        "\n",
        "X_train, X_test, Y_train, Y_test= train_test_split(X, Y,test_size=0.20 ,random_state =7)\n",
        "print(X_train.shape)\n",
        "print(X_test.shape)\n",
        "print(Y_train.shape)\n",
        "print(Y_test.shape)\n",
        "\n",
        "from sklearn.linear_model import LinearRegression\n",
        "from sklearn.metrics import mean_squared_error\n",
        "\n",
        "lin_model=LinearRegression()\n",
        "lin_model.fit(X_train, Y_train)\n",
        "\n",
        "Y_train_predict= lin_model.predict(X_train)\n",
        "output = (np.sqrt(mean_squared_error(Y_train,Y_train_predict)))\n",
        "print(\"The model performance for training set\")\n",
        "print('OUTPUT is {}'.format(output))\n",
        "print(\"\\n\")\n",
        "\n",
        "Y_test_predict= lin_model.predict(X_test)\n",
        "output= (np.sqrt(mean_squared_error(Y_train,Y_train_predict)))\n",
        "print(\"The model performance for testing set\")\n",
        "print('OUTPUT is {}'.format(output))\n",
        "print(\"\\n\")"
      ],
      "execution_count": 44,
      "outputs": [
        {
          "output_type": "stream",
          "text": [
            "/usr/local/lib/python3.7/dist-packages/sklearn/datasets/data/boston_house_prices.csv\n",
            "(404, 13)\n",
            "(102, 13)\n",
            "(404,)\n",
            "(102,)\n",
            "The model performance for training set\n",
            "OUTPUT is 4.431559241550927\n",
            "\n",
            "\n",
            "The model performance for testing set\n",
            "OUTPUT is 4.431559241550927\n",
            "\n",
            "\n"
          ],
          "name": "stdout"
        }
      ]
    }
  ]
}